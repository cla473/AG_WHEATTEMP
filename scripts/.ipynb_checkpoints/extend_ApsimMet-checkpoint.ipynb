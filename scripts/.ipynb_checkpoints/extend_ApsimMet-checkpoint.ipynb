{
 "cells": [
  {
   "cell_type": "markdown",
   "metadata": {},
   "source": [
    "# extend_ApsimMet"
   ]
  },
  {
   "cell_type": "markdown",
   "metadata": {},
   "source": [
    "### Loretta Clancy, 30-Oct- 2018\n",
    "\n",
    "#### Takes an apsim formatted '.met' file and adds additional columns calculations so that it can be used for summarising information at a later time (when re-matched with the output from Apsim Simulations)\n"
   ]
  },
  {
   "cell_type": "code",
   "execution_count": 3,
   "metadata": {
    "collapsed": true
   },
   "outputs": [],
   "source": [
    "#Import the required libraries\n",
    "import sys\n",
    "import os\n",
    "import datetime\n",
    "import numpy as np\n",
    "import pandas as pd\n",
    "import math"
   ]
  },
  {
   "cell_type": "markdown",
   "metadata": {},
   "source": [
    "#### Define the working directories and set some default variables"
   ]
  },
  {
   "cell_type": "code",
   "execution_count": 92,
   "metadata": {
    "collapsed": true
   },
   "outputs": [],
   "source": [
    "# define the working directories\n",
    "metDir = \"/OSM/CBR/AG_WHEATTEMP/work/ApsimNG-LC/met\"\n",
    "\n"
   ]
  },
  {
   "cell_type": "markdown",
   "metadata": {},
   "source": [
    "The following reads the directory specified and gets names of the '.met' files so that they can be processed.  "
   ]
  },
  {
   "cell_type": "code",
   "execution_count": 55,
   "metadata": {
    "collapsed": true
   },
   "outputs": [],
   "source": [
    "def generate_filelist(metfileDir):\n",
    "    metfile_df = pd.DataFrame(columns=['fullname'])\n",
    "    metfile_df.fullname = sorted(metDir+'/'+f for f in os.listdir(metfileDir) if f.endswith('.met'))\n",
    "    #print(metfile_df.head())\n",
    "    \n",
    "    metfile_df['filename'] = metfile_df.apply(lambda x: os.path.basename(x['fullname']), axis=1)\n",
    "    metfile_df['filename'] = metfile_df.apply(lambda x: os.path.splitext(x['filename'])[0], axis=1)\n",
    "    metfile_df['filename'] = metfile_df[\"filename\"].str.replace(\"silo_\", \"\")\n",
    "    metfile_df['longitude'] = metfile_df.apply(lambda x: x['filename'].split('-')[0], axis=1)\n",
    "    metfile_df['longitude'] = metfile_df.apply(lambda x: float(x['longitude'])/100, axis=1)\n",
    "    metfile_df['latitude'] = metfile_df.apply(lambda x: '-' + x['filename'].split('-')[1], axis=1)\n",
    "    metfile_df['latitude'] = metfile_df.apply(lambda x: float(x['latitude'])/100, axis=1)\n",
    "    metfile_df['filename'] = metfile_df.apply(lambda x: x['filename'] + \".met\", axis=1)\n",
    "    \n",
    "    outfilename = metfileDir + \"/\" + \"metList.csv\"\n",
    "    metfile_df.to_csv(outfilename, encoding='utf-8', index=False)"
   ]
  },
  {
   "cell_type": "markdown",
   "metadata": {},
   "source": [
    "The following are some values that are required for calculation the Apsim Thermal Time.  "
   ]
  },
  {
   "cell_type": "code",
   "execution_count": 56,
   "metadata": {
    "collapsed": true
   },
   "outputs": [],
   "source": [
    "generate_filelist(metDir)"
   ]
  },
  {
   "cell_type": "code",
   "execution_count": 4,
   "metadata": {
    "collapsed": true
   },
   "outputs": [],
   "source": [
    "#these are required for calculations of thermal time\n",
    "num3hr = int(24 / 3)\n",
    "#print(\"num3hr: \", num3hr)    \n",
    "t_range_fract = []\n",
    "\n",
    "# pre calculate t_range_fract for speed reasons\n",
    "for period in range(num3hr):\n",
    "    calcValue = 0.92105 \\\n",
    "                + 0.1140 * period \\\n",
    "                - 0.0703 * math.pow(period, 2) \\\n",
    "                + 0.0053 * math.pow(period, 3)\n",
    "    t_range_fract.append(calcValue)\n",
    "\n",
    "#print(\"t_range_fract: \", t_range_fract)\n"
   ]
  },
  {
   "cell_type": "markdown",
   "metadata": {},
   "source": [
    "#### Define the functions required to retrieve data\n",
    "\n",
    "This section retrieves data from the database as well as the corresponding Apsim weather file."
   ]
  },
  {
   "cell_type": "code",
   "execution_count": 5,
   "metadata": {
    "collapsed": true
   },
   "outputs": [],
   "source": [
    "def linint_3hrly_Temperature(tmax, tmin, xp, fp):\n",
    "    '''\n",
    "    Eight interpolations of the air temperature are calculated using \n",
    "    a three-hour correction factor.\n",
    "    For each air three-hour air temperature, a value is calculated.\n",
    "    The eight three-hour estimates are then averaged to obtain the daily value.\n",
    "    '''\n",
    "\n",
    "    #Local Variables\n",
    "    tot = 0.0            #sum_of of 3 hr interpolations\n",
    "    \n",
    "    for period in range(1, num3hr):\n",
    "        #get mean temperature for 3 hr period (oC)\n",
    "        tmean_3hour = tmin + (t_range_fract[period-1] * (tmax - tmin))\n",
    "        tot = tot + np.interp(tmean_3hour, xp,fp)\n",
    "        #print(\"tmean_3hour: \", tmean_3hour, \" - tot: \", tot)\n",
    "\n",
    "    return tot / num3hr;\n"
   ]
  },
  {
   "cell_type": "code",
   "execution_count": 121,
   "metadata": {
    "collapsed": true
   },
   "outputs": [],
   "source": [
    "def process_ApsimWeather(filename, outfile, latitude):\n",
    "    '''\n",
    "    Reads an apsim weather ('.met') file, removes the header information,\n",
    "    calculates and adds a date column (based on year and day), and the\n",
    "    average temperature (based on maxt and mint).\n",
    "    '''\n",
    "    import math\n",
    "\n",
    "    \n",
    "    #these are required for calculations of thermal time\n",
    "    num3hr = int(24 / 3)\n",
    "    #print(\"num3hr: \", num3hr)    \n",
    "    t_range_fract = []\n",
    "\n",
    "    # pre calculate t_range_fract for speed reasons\n",
    "    for period in range(num3hr):\n",
    "        calcValue = 0.92105 \\\n",
    "                    + 0.1140 * period \\\n",
    "                    - 0.0703 * math.pow(period, 2) \\\n",
    "                    + 0.0053 * math.pow(period, 3)\n",
    "        t_range_fract.append(calcValue)\n",
    "    \n",
    "    # these XYPairs are use when calculating Thermal Time \n",
    "    # and are specific to Wheat only\n",
    "    xp = [0, 26, 37]\n",
    "    fp = [0, 26, 0]\n",
    "    \n",
    "    #-------------\n",
    "    # start working with the data here\n",
    "    #-------------\n",
    "    lineNo = 0\n",
    "    with open(filename, \"r\") as f:\n",
    "        for line in f:\n",
    "            lineNo = lineNo + 1\n",
    "            if line.startswith('year'):\n",
    "                break;\n",
    "\n",
    "    # return the data using the starting line no (determined above)\n",
    "    # original column names=['year','day', 'radn', 'maxt', 'mint', 'rain', 'evap', 'vp']\n",
    "    metData = pd.read_table(filename, sep='\\s+', header=None, skiprows=lineNo+1, index_col=False,\n",
    "                            names=['year','dayofYear', 'radiation', 'maxTemp', 'minTemp', 'rain', 'evap', 'vp'])\n",
    "\n",
    "    # add the calculated columns\n",
    "    metData['runDate'] = pd.to_datetime(metData['year'].astype(str) + \" \" + metData['dayofYear'].astype(str), format=\"%Y %j\")\n",
    "    \n",
    "    #filter this file based on the dates we are working with\n",
    "    #metData = metData[(metData['runDate'] >= startDate) & (metData['runDate'] <= endDate)] \n",
    "        \n",
    "    # this may need to be the thermal time, not just average temp\n",
    "    metData['avgTemp'] = (metData['maxTemp'] + metData['minTemp']) / 2\n",
    "\n",
    "    # calculate the Apsim Thermal Time\n",
    "    metData['ApsimTT'] = metData.apply(lambda x: linint_3hrly_Temperature(x['maxTemp'], x['minTemp'], xp, fp), axis=1)\n",
    "    \n",
    "    #convert the radiation from MJ/m2/day to Photosynthetically active radiation (PAR)\n",
    "    metData['PARIO'] = metData['radiation'] * 0.47\n",
    "\n",
    "    #convert the measurement unit for the radiation from MJ/m2/day to J/m2/day\n",
    "    metData['radnJ'] = metData['radiation'] * 1000000\n",
    "\n",
    "    metData['PQ'] = metData['PARIO'] / metData['avgTemp']\n",
    "\n",
    "    # calculation the day length\n",
    "    radians = math.pi/180\n",
    "    lambdaRadians = float(latitude) * radians\n",
    "\n",
    "    sinLAT = math.sin(lambdaRadians)\n",
    "    cosLAT = math.cos(lambdaRadians)\n",
    "    sinDMC = math.sin(radians * 23.45)\n",
    "\n",
    "    #print(\"radians: \", radians)\n",
    "    #print(\"lambdaRadians: \", lambdaRadians)\n",
    "    #print(\"sinLAT: \", sinLAT)\n",
    "    #print(\"cosLAT: \", cosLAT)\n",
    "    #print(\"sinDMC: \", sinDMC)    \n",
    "    \n",
    "    metData['sinDEC'] = -sinDMC * np.cos(2 * math.pi * (metData['dayofYear'] + 10) / 365)\n",
    "    metData['cosDEC'] = np.sqrt(1 - (metData['sinDEC'] * metData['sinDEC']))\n",
    "    metData['a'] = sinLAT * metData['sinDEC']\n",
    "    metData['b'] = cosLAT * metData['cosDEC']\n",
    "\n",
    "    metData['daylength'] = 12 * (1 + (2 / math.pi) * np.arcsin(metData['a']/metData['b']))\n",
    "\n",
    "    # calculate the Fraction Disfused Radiation (FDR)\n",
    "    metData['hour'] = np.mod(metData['dayofYear'], 1) * 24\n",
    "    metData['sinB'] = metData['a'] + metData['b'] * np.cos(2 * math.pi * (metData['hour'] - 12) / 24)\n",
    "    metData['SC'] = 1367 * (1 + 0.033 * np.cos(2 * math.pi * (metData['dayofYear'] - 10) / 365))\n",
    "    metData['sinINT'] = metData['a'] * metData['daylength'] + (24 * metData['b'] / math.pi) * \\\n",
    "                        np.cos((math.pi / 2) * ((metData['daylength'] / 12) - 1))\n",
    "\n",
    "    metData['Ta'] = metData['radnJ'] / (metData['sinINT'] * 3600 * metData['SC'])\n",
    "    metData['FDR'] = metData['Ta'] * -1.4545 + 1.2182\n",
    "\n",
    "    # calculate the Evapotranspiration\n",
    "    metData['vpsl'] = 238.102 * 17.32491 * ((metData['minTemp'] + metData['maxTemp']) /2) / \\\n",
    "                      (((metData['minTemp'] + metData['maxTemp']) / 2) + 238.102) ** 2\n",
    "    metData['ETpt'] = 1.26 * (metData['radnJ']  * (metData['vpsl'] / (metData['vpsl'] + 0.067))) / 2454000\n",
    "\n",
    "    #metData.round({'ApsimTT':4, 'PC':4, 'sinDEC':4, 'cosDEC':4, 'a':4, 'b':4, 'daylength':4})\n",
    "    #metData.round({'hour':4, 'sinB':4, 'SC':4, 'sinINT':4, 'Ta':4, 'FDR':4, 'vpsl':4, 'ETpt':4})\n",
    "    metData['ApsimTT'] = np.round(metData['ApsimTT'],decimals=5)\n",
    "    metData['PARIO'] = np.round(metData['PARIO'],decimals=5)\n",
    "    metData['PQ'] = np.round(metData['PQ'],decimals=5)\n",
    "    metData['sinDEC'] = np.round(metData['sinDEC'],decimals=5)\n",
    "    metData['cosDEC'] = np.round(metData['cosDEC'],decimals=5)\n",
    "    metData['a'] = np.round(metData['a'],decimals=5)\n",
    "    metData['b'] = np.round(metData['b'],decimals=5)\n",
    "    metData['daylength'] = np.round(metData['daylength'],decimals=5)\n",
    "    metData['hour'] = np.round(metData['hour'],decimals=5)\n",
    "    metData['sinB'] = np.round(metData['sinB'],decimals=5)\n",
    "    metData['SC'] = np.round(metData['SC'],decimals=5)\n",
    "    metData['sinINT'] = np.round(metData['sinINT'],decimals=5)\n",
    "    metData['Ta'] = np.round(metData['Ta'],decimals=5)\n",
    "    metData['FDR'] = np.round(metData['FDR'],decimals=5)\n",
    "    metData['vpsl'] = np.round(metData['vpsl'],decimals=5)\n",
    "    metData['ETpt'] = np.round(metData['ETpt'],decimals=5)\n",
    "    \n",
    "    metData.to_csv(outfile, encoding='utf-8', index=False)\n",
    "\n",
    "    #return metData\n",
    "    #return metData\n",
    "    "
   ]
  },
  {
   "cell_type": "code",
   "execution_count": 13,
   "metadata": {
    "collapsed": true
   },
   "outputs": [],
   "source": [
    "def getFileDetails(filename, row):\n",
    "    \n",
    "    metdf = pd.read_csv(filename)\n",
    "    print(metdf.head())\n",
    "    infile = metdf['fullname'].iloc[row-1]\n",
    "    outfile = metdf['filename'].iloc[row-1]\n",
    "    latitude = metdf['latitude'].iloc[row-1]\n",
    "    \n",
    "    return infile, outfile, latitude"
   ]
  },
  {
   "cell_type": "markdown",
   "metadata": {},
   "source": [
    "## Process the data\n",
    "\n",
    "The following processes a single database file, collating it with the corresponding weather data.  \n",
    "\n",
    "##### NOTE:  dbname is defined at the top"
   ]
  },
  {
   "cell_type": "code",
   "execution_count": 57,
   "metadata": {},
   "outputs": [
    {
     "name": "stdout",
     "output_type": "stream",
     "text": [
      "                                            fullname        filename  \\\n",
      "0  /OSM/CBR/AG_WHEATTEMP/work/ApsimNG-LC/met/silo...  11400-2725.met   \n",
      "1  /OSM/CBR/AG_WHEATTEMP/work/ApsimNG-LC/met/silo...  11405-2725.met   \n",
      "2  /OSM/CBR/AG_WHEATTEMP/work/ApsimNG-LC/met/silo...  11405-2730.met   \n",
      "3  /OSM/CBR/AG_WHEATTEMP/work/ApsimNG-LC/met/silo...  11405-2735.met   \n",
      "4  /OSM/CBR/AG_WHEATTEMP/work/ApsimNG-LC/met/silo...  11410-2715.met   \n",
      "\n",
      "   longitude  latitude  \n",
      "0     114.00    -27.25  \n",
      "1     114.05    -27.25  \n",
      "2     114.05    -27.30  \n",
      "3     114.05    -27.35  \n",
      "4     114.10    -27.15  \n"
     ]
    }
   ],
   "source": [
    "filename = \"/OSM/CBR/AG_WHEATTEMP/work/ApsimNG-LC/met/metList.csv\"\n",
    "getFileDetails(filename)\n",
    "print(metdf.head())\n",
    "testfile = metdf['fullname'].iloc[1]\n",
    "outfile = metdf['filename'].iloc[1]\n",
    "testlat = metdf['latitude'].iloc[1]\n",
    "outfilename = outDir + \"/\" + outfile"
   ]
  },
  {
   "cell_type": "code",
   "execution_count": 14,
   "metadata": {},
   "outputs": [
    {
     "name": "stdout",
     "output_type": "stream",
     "text": [
      "                                            fullname        filename  \\\n",
      "0  /OSM/CBR/AG_WHEATTEMP/work/ApsimNG-LC/met/silo...  11400-2725.met   \n",
      "1  /OSM/CBR/AG_WHEATTEMP/work/ApsimNG-LC/met/silo...  11405-2725.met   \n",
      "2  /OSM/CBR/AG_WHEATTEMP/work/ApsimNG-LC/met/silo...  11405-2730.met   \n",
      "3  /OSM/CBR/AG_WHEATTEMP/work/ApsimNG-LC/met/silo...  11405-2735.met   \n",
      "4  /OSM/CBR/AG_WHEATTEMP/work/ApsimNG-LC/met/silo...  11410-2715.met   \n",
      "\n",
      "   longitude  latitude  \n",
      "0     114.00    -27.25  \n",
      "1     114.05    -27.25  \n",
      "2     114.05    -27.30  \n",
      "3     114.05    -27.35  \n",
      "4     114.10    -27.15  \n"
     ]
    }
   ],
   "source": [
    "filename = \"/OSM/CBR/AG_WHEATTEMP/work/ApsimNG-LC/met/metList.csv\"\n",
    "#outDir = \"/OSM/CBR/AG_WHEATTEMP/source/ApsimNG-LC/modifiedMet\"\n",
    "infile, outfile, latitude = getFileDetails(filename, 1)\n",
    "#outfilename = outDir + \"/\" + outfile\n"
   ]
  },
  {
   "cell_type": "code",
   "execution_count": 15,
   "metadata": {},
   "outputs": [
    {
     "name": "stdout",
     "output_type": "stream",
     "text": [
      "infile:  /OSM/CBR/AG_WHEATTEMP/work/ApsimNG-LC/met/silo_11400-2725.met  - outfile:  11400-2725.met  - latitude:  -27.25\n"
     ]
    }
   ],
   "source": [
    "print(\"infile: \", infile, \" - outfile: \", outfile, \" - latitude: \", latitude )"
   ]
  },
  {
   "cell_type": "code",
   "execution_count": 113,
   "metadata": {},
   "outputs": [
    {
     "data": {
      "text/html": [
       "<div>\n",
       "<style scoped>\n",
       "    .dataframe tbody tr th:only-of-type {\n",
       "        vertical-align: middle;\n",
       "    }\n",
       "\n",
       "    .dataframe tbody tr th {\n",
       "        vertical-align: top;\n",
       "    }\n",
       "\n",
       "    .dataframe thead th {\n",
       "        text-align: right;\n",
       "    }\n",
       "</style>\n",
       "<table border=\"1\" class=\"dataframe\">\n",
       "  <thead>\n",
       "    <tr style=\"text-align: right;\">\n",
       "      <th></th>\n",
       "      <th>year</th>\n",
       "      <th>dayofYear</th>\n",
       "      <th>radiation</th>\n",
       "      <th>maxTemp</th>\n",
       "      <th>minTemp</th>\n",
       "      <th>rain</th>\n",
       "      <th>evap</th>\n",
       "      <th>vp</th>\n",
       "      <th>runDate</th>\n",
       "      <th>avgTemp</th>\n",
       "      <th>...</th>\n",
       "      <th>b</th>\n",
       "      <th>daylength</th>\n",
       "      <th>hour</th>\n",
       "      <th>sinB</th>\n",
       "      <th>SC</th>\n",
       "      <th>sinINT</th>\n",
       "      <th>Ta</th>\n",
       "      <th>FDR</th>\n",
       "      <th>vpsl</th>\n",
       "      <th>ETpt</th>\n",
       "    </tr>\n",
       "  </thead>\n",
       "  <tbody>\n",
       "    <tr>\n",
       "      <th>0</th>\n",
       "      <td>1957</td>\n",
       "      <td>1</td>\n",
       "      <td>27.0</td>\n",
       "      <td>27.0</td>\n",
       "      <td>17.5</td>\n",
       "      <td>0.0</td>\n",
       "      <td>9.6</td>\n",
       "      <td>13.0</td>\n",
       "      <td>1957-01-01</td>\n",
       "      <td>22.25</td>\n",
       "      <td>...</td>\n",
       "      <td>0.81831</td>\n",
       "      <td>13.68426</td>\n",
       "      <td>0</td>\n",
       "      <td>-0.63935</td>\n",
       "      <td>1411.57069</td>\n",
       "      <td>8.54892</td>\n",
       "      <td>0.62151</td>\n",
       "      <td>0.31422</td>\n",
       "      <td>1.35407</td>\n",
       "      <td>13.20947</td>\n",
       "    </tr>\n",
       "    <tr>\n",
       "      <th>1</th>\n",
       "      <td>1957</td>\n",
       "      <td>2</td>\n",
       "      <td>31.0</td>\n",
       "      <td>31.0</td>\n",
       "      <td>15.5</td>\n",
       "      <td>0.0</td>\n",
       "      <td>11.4</td>\n",
       "      <td>13.0</td>\n",
       "      <td>1957-01-02</td>\n",
       "      <td>23.25</td>\n",
       "      <td>...</td>\n",
       "      <td>0.81881</td>\n",
       "      <td>13.67730</td>\n",
       "      <td>0</td>\n",
       "      <td>-0.64048</td>\n",
       "      <td>1411.68391</td>\n",
       "      <td>8.54427</td>\n",
       "      <td>0.71392</td>\n",
       "      <td>0.17981</td>\n",
       "      <td>1.40412</td>\n",
       "      <td>15.19196</td>\n",
       "    </tr>\n",
       "    <tr>\n",
       "      <th>2</th>\n",
       "      <td>1957</td>\n",
       "      <td>3</td>\n",
       "      <td>31.0</td>\n",
       "      <td>33.0</td>\n",
       "      <td>15.0</td>\n",
       "      <td>0.0</td>\n",
       "      <td>11.8</td>\n",
       "      <td>13.0</td>\n",
       "      <td>1957-01-03</td>\n",
       "      <td>24.00</td>\n",
       "      <td>...</td>\n",
       "      <td>0.81936</td>\n",
       "      <td>13.66977</td>\n",
       "      <td>0</td>\n",
       "      <td>-0.64169</td>\n",
       "      <td>1411.78389</td>\n",
       "      <td>8.53920</td>\n",
       "      <td>0.71429</td>\n",
       "      <td>0.17927</td>\n",
       "      <td>1.44113</td>\n",
       "      <td>15.20975</td>\n",
       "    </tr>\n",
       "    <tr>\n",
       "      <th>3</th>\n",
       "      <td>1957</td>\n",
       "      <td>4</td>\n",
       "      <td>31.0</td>\n",
       "      <td>35.0</td>\n",
       "      <td>16.5</td>\n",
       "      <td>0.0</td>\n",
       "      <td>12.1</td>\n",
       "      <td>16.0</td>\n",
       "      <td>1957-01-04</td>\n",
       "      <td>25.75</td>\n",
       "      <td>...</td>\n",
       "      <td>0.81995</td>\n",
       "      <td>13.66165</td>\n",
       "      <td>0</td>\n",
       "      <td>-0.64301</td>\n",
       "      <td>1411.87060</td>\n",
       "      <td>8.53372</td>\n",
       "      <td>0.71470</td>\n",
       "      <td>0.17866</td>\n",
       "      <td>1.52577</td>\n",
       "      <td>15.24733</td>\n",
       "    </tr>\n",
       "    <tr>\n",
       "      <th>4</th>\n",
       "      <td>1957</td>\n",
       "      <td>5</td>\n",
       "      <td>30.0</td>\n",
       "      <td>32.5</td>\n",
       "      <td>18.0</td>\n",
       "      <td>0.0</td>\n",
       "      <td>11.0</td>\n",
       "      <td>18.0</td>\n",
       "      <td>1957-01-05</td>\n",
       "      <td>25.25</td>\n",
       "      <td>...</td>\n",
       "      <td>0.82058</td>\n",
       "      <td>13.65297</td>\n",
       "      <td>0</td>\n",
       "      <td>-0.64441</td>\n",
       "      <td>1411.94401</td>\n",
       "      <td>8.52783</td>\n",
       "      <td>0.69209</td>\n",
       "      <td>0.21155</td>\n",
       "      <td>1.50183</td>\n",
       "      <td>14.74559</td>\n",
       "    </tr>\n",
       "  </tbody>\n",
       "</table>\n",
       "<p>5 rows × 27 columns</p>\n",
       "</div>"
      ],
      "text/plain": [
       "   year  dayofYear  radiation  maxTemp  minTemp  rain  evap    vp    runDate  \\\n",
       "0  1957          1       27.0     27.0     17.5   0.0   9.6  13.0 1957-01-01   \n",
       "1  1957          2       31.0     31.0     15.5   0.0  11.4  13.0 1957-01-02   \n",
       "2  1957          3       31.0     33.0     15.0   0.0  11.8  13.0 1957-01-03   \n",
       "3  1957          4       31.0     35.0     16.5   0.0  12.1  16.0 1957-01-04   \n",
       "4  1957          5       30.0     32.5     18.0   0.0  11.0  18.0 1957-01-05   \n",
       "\n",
       "   avgTemp    ...           b  daylength  hour     sinB          SC   sinINT  \\\n",
       "0    22.25    ...     0.81831   13.68426     0 -0.63935  1411.57069  8.54892   \n",
       "1    23.25    ...     0.81881   13.67730     0 -0.64048  1411.68391  8.54427   \n",
       "2    24.00    ...     0.81936   13.66977     0 -0.64169  1411.78389  8.53920   \n",
       "3    25.75    ...     0.81995   13.66165     0 -0.64301  1411.87060  8.53372   \n",
       "4    25.25    ...     0.82058   13.65297     0 -0.64441  1411.94401  8.52783   \n",
       "\n",
       "        Ta      FDR     vpsl      ETpt  \n",
       "0  0.62151  0.31422  1.35407  13.20947  \n",
       "1  0.71392  0.17981  1.40412  15.19196  \n",
       "2  0.71429  0.17927  1.44113  15.20975  \n",
       "3  0.71470  0.17866  1.52577  15.24733  \n",
       "4  0.69209  0.21155  1.50183  14.74559  \n",
       "\n",
       "[5 rows x 27 columns]"
      ]
     },
     "execution_count": 113,
     "metadata": {},
     "output_type": "execute_result"
    }
   ],
   "source": [
    "data = process_ApsimWeather(testfile, outfilename, testlat)\n",
    "data.head()"
   ]
  },
  {
   "cell_type": "code",
   "execution_count": 120,
   "metadata": {},
   "outputs": [
    {
     "data": {
      "text/plain": [
       "0"
      ]
     },
     "execution_count": 120,
     "metadata": {},
     "output_type": "execute_result"
    }
   ],
   "source": []
  }
 ],
 "metadata": {
  "kernelspec": {
   "display_name": "Python 3",
   "language": "python",
   "name": "python3"
  },
  "language_info": {
   "codemirror_mode": {
    "name": "ipython",
    "version": 3
   },
   "file_extension": ".py",
   "mimetype": "text/x-python",
   "name": "python",
   "nbconvert_exporter": "python",
   "pygments_lexer": "ipython3",
   "version": "3.6.1"
  }
 },
 "nbformat": 4,
 "nbformat_minor": 2
}
