{
 "cells": [
  {
   "cell_type": "code",
   "execution_count": 1,
   "metadata": {
    "collapsed": true
   },
   "outputs": [],
   "source": [
    "import argparse\n",
    "import os\n",
    "import sys\n",
    "import pandas as pd\n",
    "import math\n",
    "from haversine import haversine \n"
   ]
  },
  {
   "cell_type": "code",
   "execution_count": 20,
   "metadata": {
    "collapsed": true
   },
   "outputs": [],
   "source": [
    "workingDir = \"/OSM/CBR/AG_WHEATTEMP/work/ApsimNG-LC\"\n",
    "metSourceDir = workingDir + \"/met\"\n",
    "simOutputDir = workingDir + \"/sim\"\n",
    "baseApsimXML = workingDir + \"/prep/BaseWithCultivars.apsimx\"\n",
    "metGridCsv = workingDir + \"/gridMet.csv\"\n",
    "soilGridCsv = workingDir + \"/gridSoil.csv\"\n",
    "outputCsv = workingDir + \"/gridMet_Soil\"\n",
    "\n",
    "soilSourceDir = \"/OSM/CBR/AG/WHEATTEMP/work/ApsimNG-test/APSIM_prep/SoilXML\"\n"
   ]
  },
  {
   "cell_type": "code",
   "execution_count": 3,
   "metadata": {
    "collapsed": true
   },
   "outputs": [],
   "source": [
    "def getMetGrid():\n",
    "    # Get a list of met stations\n",
    "    if os.path.isfile(metGridCsv):\n",
    "        metGrid = pd.read_csv(metGridCsv)\n",
    "    else:\n",
    "        metList = sorted(os.listdir(metSourceDir))\n",
    "        metGrid = pd.DataFrame(metList, columns=['filename'])\n",
    "\n",
    "        #extract the long and lat\n",
    "        #weather file names:  silo_11410-2720.met\n",
    "        metGrid['long'] = metGrid.filename.apply(lambda x: int(x[5:10])/100)\n",
    "        metGrid['lat'] = -(metGrid.filename.apply(lambda x: int(x[11:15])/100))\n",
    "\n",
    "        metGrid['soilLong'] = \"\"\n",
    "        metGrid['soilLat'] = \"\"\n",
    "        metGrid.head()\n",
    "        metGrid.to_csv(metGridCsv, sep=',', encoding='utf-8', index=False)\n",
    "\n",
    "    return metGrid"
   ]
  },
  {
   "cell_type": "code",
   "execution_count": 4,
   "metadata": {
    "collapsed": true
   },
   "outputs": [],
   "source": [
    "def getSoilGrid():\n",
    "    if os.path.isfile(soilGridCsv):\n",
    "        soilGrid = pd.read_csv(soilGridCsv)\n",
    "    else:\n",
    "        #Get a list of the soils\n",
    "        soilList = sorted(os.listdir(soilSourceDir))\n",
    "        #convert this into a dataframe of long and lat coordiantes\n",
    "        soilGrid = pd.DataFrame(soilList, columns=['filename'])\n",
    "\n",
    "        #extract the long and lat\n",
    "        #soil file names: 11410-2721.soil\n",
    "        soilGrid['long'] = soilGrid.filename.apply(lambda x: int(x[0:5])/100)\n",
    "        soilGrid['lat'] = -(soilGrid.filename.apply(lambda x: int(x[6:10])/100))\n",
    "        soilGrid.head()\n",
    "        soilGrid.to_csv(soilGridCsv, sep=',', encoding='utf-8', index=False)\n",
    "\n",
    "    return soilGrid"
   ]
  },
  {
   "cell_type": "code",
   "execution_count": 5,
   "metadata": {
    "collapsed": true
   },
   "outputs": [],
   "source": [
    "def getClosestSoil(long, lat, soilGrid):\n",
    "    #soil files may/may not match the met file location exactly, so need to determine the closes match to the met file and get that soil file\n",
    "    #long = 149.50\n",
    "    #lat =  -30.25\n",
    "\n",
    "    soilGrid['dist'] = soilGrid.apply(lambda row: haversine((long, lat), (row['long'], row['lat'])), axis=1)\n",
    "\n",
    "    temp = soilGrid[soilGrid['dist'] == min(soilGrid['dist'])]\n",
    "    return temp"
   ]
  },
  {
   "cell_type": "code",
   "execution_count": 23,
   "metadata": {
    "collapsed": true
   },
   "outputs": [],
   "source": [
    "def processMetGrid(startRow, endRow):\n",
    "\n",
    "    #filter the metGrid based on the row numbers\n",
    "    metGrid = getMetGrid()\n",
    "    soilGrid = getSoilGrid()\n",
    "\n",
    "    gridRows = metGrid.shape[0]\n",
    "    if (endRow > gridRows):\n",
    "        endRow = gridRows\n",
    "\n",
    "    gridData = metGrid[startRow-1:endRow]\n",
    "\n",
    "    #get the closed soil location to our met station\n",
    "    #soilFilename = GenFuncs.getClosestSoil(long, lat, soilGrid) + \".soil\"\n",
    "    #dist = getClosestSoil(metGrid2['long'][0], metGrid2['lat'][0], soilGrid)\n",
    "    #dist = getClosestSoil(114.0, -27.25, soilGrid)\n",
    "\n",
    "    for index, eachRow in gridData.iterrows():\n",
    "        print(\"long: \" + str(eachRow['long']) + \" - lat: \" + str(eachRow['lat']))\n",
    "        dist = getClosestSoil(eachRow[1], eachRow[2], soilGrid)\n",
    "        print(dist.shape)\n",
    "        print(dist)\n",
    "        ix = dist.index[0]\n",
    "        \n",
    "        if dist is not None:\n",
    "            gridData.at[index, 'soilLong'] = dist['long'][ix]\n",
    "            gridData.at[index, 'soilLat'] = dist['lat'][ix]\n",
    "\n",
    "    # Write the file out again\n",
    "    newOutputCsv = outputCsv + \"_\" + str(startRow) + \".csv\"\n",
    "    print(newOutputCsv)\n",
    "    gridData.to_csv(newOutputCsv, sep=',', encoding='utf-8', index=False)"
   ]
  },
  {
   "cell_type": "code",
   "execution_count": 24,
   "metadata": {},
   "outputs": [
    {
     "name": "stdout",
     "output_type": "stream",
     "text": [
      "long: 114.15 - lat: -27.45\n",
      "(1, 4)\n",
      "          filename    long    lat       dist\n",
      "7  11415-2788.soil  114.15 -27.88  19.561881\n",
      "long: 114.15 - lat: -27.5\n",
      "(1, 4)\n",
      "          filename    long    lat       dist\n",
      "7  11415-2788.soil  114.15 -27.88  17.287251\n",
      "long: 114.15 - lat: -27.55\n",
      "(1, 4)\n",
      "          filename    long    lat       dist\n",
      "7  11415-2788.soil  114.15 -27.88  15.012619\n",
      "/OSM/CBR/AG_WHEATTEMP/work/ApsimNG-LC/gridMet_Soil_18.csv\n"
     ]
    }
   ],
   "source": [
    "processMetGrid(18, 20)"
   ]
  },
  {
   "cell_type": "code",
   "execution_count": null,
   "metadata": {
    "collapsed": true
   },
   "outputs": [],
   "source": []
  },
  {
   "cell_type": "code",
   "execution_count": null,
   "metadata": {
    "collapsed": true
   },
   "outputs": [],
   "source": []
  },
  {
   "cell_type": "code",
   "execution_count": null,
   "metadata": {
    "collapsed": true
   },
   "outputs": [],
   "source": []
  },
  {
   "cell_type": "code",
   "execution_count": null,
   "metadata": {
    "collapsed": true
   },
   "outputs": [],
   "source": []
  }
 ],
 "metadata": {
  "kernelspec": {
   "display_name": "Python 3.6.1",
   "language": "python",
   "name": "python-3.6.1"
  },
  "language_info": {
   "codemirror_mode": {
    "name": "ipython",
    "version": 3
   },
   "file_extension": ".py",
   "mimetype": "text/x-python",
   "name": "python",
   "nbconvert_exporter": "python",
   "pygments_lexer": "ipython3",
   "version": "3.6.1"
  }
 },
 "nbformat": 4,
 "nbformat_minor": 2
}
