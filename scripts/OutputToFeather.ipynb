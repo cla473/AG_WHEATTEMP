{
 "cells": [
  {
   "cell_type": "markdown",
   "metadata": {},
   "source": [
    "## Working with pandas dataframes"
   ]
  },
  {
   "cell_type": "markdown",
   "metadata": {},
   "source": [
    "I am trying to extract the name information using the columns (as a whole, if that makes sense).  I have a function works if I iterate through the rows and treat each 'Name' individually."
   ]
  },
  {
   "cell_type": "code",
   "execution_count": null,
   "metadata": {
    "collapsed": true
   },
   "outputs": [],
   "source": [
    "import numpy as np\n",
    "import pandas as pd\n",
    "import sqlite3\n",
    "import os\n",
    "import feather"
   ]
  },
  {
   "cell_type": "code",
   "execution_count": null,
   "metadata": {
    "collapsed": true
   },
   "outputs": [],
   "source": [
    "apsim_sourcedir = \"/OSM/CBR/AG_WHEATTEMP/source\"\n",
    "apsim_outfiledir = \"/OSM/CBR/AG_WHEATTEMP/work\"\n",
    "metfile_sourcedir = \"/OSM/CBR/AG_WHEATTEMP/work/ApsimNG-test/APSIM_run/met\""
   ]
  },
  {
   "cell_type": "code",
   "execution_count": null,
   "metadata": {
    "collapsed": true
   },
   "outputs": [],
   "source": [
    "dbfile_df = pd.DataFrame(columns=['filename'])\n",
    "dbfile_df.filename = sorted(apsim_sourcedir+'/'+f for f in os.listdir(apsim_sourcedir) if f.endswith('.db'))\n",
    "print(dbfile_df.head())"
   ]
  },
  {
   "cell_type": "code",
   "execution_count": null,
   "metadata": {
    "collapsed": true
   },
   "outputs": [],
   "source": [
    "#we are going to work with just the first filename\n",
    "print(dbfile_df.filename[0])\n",
    "con = sqlite3.connect(dbfile_df.filename[0])\n",
    "cur = con.cursor()"
   ]
  },
  {
   "cell_type": "code",
   "execution_count": null,
   "metadata": {
    "collapsed": true
   },
   "outputs": [],
   "source": [
    "strSql = \"SELECT ID as SimulationID, Name FROM _Simulations\"\n",
    "dfSim = pd.read_sql_query(strSql, con, index_col = 'SimulationID')\n",
    "print(dfSim.shape)\n",
    "dfSim"
   ]
  },
  {
   "cell_type": "code",
   "execution_count": null,
   "metadata": {
    "collapsed": true,
    "scrolled": false
   },
   "outputs": [],
   "source": [
    "#An alternative method, using grep is done below\n",
    "#dfSim2 = dfSim.join(pd.DataFrame(dfSim.Name.str.rsplit('_', expand=True, n=1)))\n",
    "#dfSim2.rename(columns={0: 'newName', 1: 'sowDate'}, inplace=True)\n",
    "\n",
    "#dfSim2 = dfSim2.join(pd.DataFrame(dfSim2.newName.str.split('_', expand=True, n=2)))\n",
    "#dfSim2.rename(columns={0: 'long', 1: 'lat', 2: 'variety'}, inplace=True)\n",
    "\n",
    "#dfSim2.drop('newName', axis=1, inplace=True)\n",
    "#dfSim2"
   ]
  },
  {
   "cell_type": "code",
   "execution_count": null,
   "metadata": {
    "collapsed": true
   },
   "outputs": [],
   "source": [
    "#pd.options.display.float_format = '{:,.2f}'.format\n",
    "#dfSim2['long'] = dfSim2['long'].astype(float) / 100\n",
    "#dfSim2['lat'] = dfSim2['lat'].astype(float) / 100\n",
    "#dfSim2"
   ]
  },
  {
   "cell_type": "markdown",
   "metadata": {},
   "source": [
    "While the above works nicely, it may not be the best way to achieve this, might need to do some testing when dealing with more data.  So I will use regular expressions instead."
   ]
  },
  {
   "cell_type": "code",
   "execution_count": null,
   "metadata": {
    "collapsed": true
   },
   "outputs": [],
   "source": [
    "#This is done in a single line below\n",
    "#dfSim['long'] = dfSim['Name'].str.extract(\"^(\\d+)_-?\\d+_\\S+_\\d+-\\S+$\", expand=True)\n",
    "#dfSim['lat'] = dfSim['Name'].str.extract(\"^\\d+_(-?\\d+)_\\S+_\\d+-\\S+$\", expand=True)\n",
    "#dfSim['variety'] = dfSim['Name'].str.extract(\"^\\d+_-?\\d+_(\\S+)_\\d+-\\S+$\", expand=True)\n",
    "#dfSim['sowdate'] = dfSim['Name'].str.extract(\"^\\d+_-?\\d+_\\S+_(\\d+-\\S+)$\", expand=True)\n",
    "#dfSim"
   ]
  },
  {
   "cell_type": "code",
   "execution_count": null,
   "metadata": {
    "collapsed": true
   },
   "outputs": [],
   "source": [
    "#a more optimal way to achieve the above\n",
    "dfSim[['long','lat','variety','sowdate']] = dfSim['Name'].str.extract(\"^(?P<lo>\\d+)_(?P<la>-?\\d+)_(?P<var>\\S+)_(?P<da>\\d+-\\S+)$\", expand=True)\n",
    "dfSim"
   ]
  },
  {
   "cell_type": "code",
   "execution_count": null,
   "metadata": {
    "collapsed": true
   },
   "outputs": [],
   "source": [
    "#now format the longitude and latitude columns correctly\n",
    "pd.options.display.float_format = '{:,.2f}'.format\n",
    "dfSim['long'] = dfSim['long'].astype(float) / 100\n",
    "dfSim['lat'] = dfSim['lat'].astype(float) / 100\n",
    "\n"
   ]
  },
  {
   "cell_type": "code",
   "execution_count": null,
   "metadata": {
    "collapsed": true
   },
   "outputs": [],
   "source": [
    "print(dfSim.shape)\n",
    "dfSim"
   ]
  },
  {
   "cell_type": "markdown",
   "metadata": {},
   "source": [
    "#### Now lets filter this by the Variety we are after"
   ]
  },
  {
   "cell_type": "code",
   "execution_count": null,
   "metadata": {
    "collapsed": true
   },
   "outputs": [],
   "source": [
    "dfSimVar = dfSim[(dfSim.variety=='janz')]\n",
    "print(dfSimVar.shape)\n",
    "dfSimVar"
   ]
  },
  {
   "cell_type": "markdown",
   "metadata": {},
   "source": [
    "#### get a list of Simulation ID's"
   ]
  },
  {
   "cell_type": "code",
   "execution_count": null,
   "metadata": {
    "collapsed": true
   },
   "outputs": [],
   "source": [
    "simIds = dfSimVar.index.tolist()\n",
    "simIds"
   ]
  },
  {
   "cell_type": "code",
   "execution_count": null,
   "metadata": {
    "collapsed": true
   },
   "outputs": [],
   "source": [
    "simIdStr = ', '.join(str(e) for e in simIds)\n",
    "simIdStr"
   ]
  },
  {
   "cell_type": "code",
   "execution_count": null,
   "metadata": {
    "collapsed": true
   },
   "outputs": [],
   "source": [
    "dfSimVar['SimID'] = dfSimVar.index\n",
    "dfSimVar"
   ]
  },
  {
   "cell_type": "markdown",
   "metadata": {},
   "source": [
    "### Now retrieve the Report Data\n",
    "\n",
    "We can use the simIds that were collected above"
   ]
  },
  {
   "cell_type": "code",
   "execution_count": null,
   "metadata": {
    "collapsed": true
   },
   "outputs": [],
   "source": [
    "#This should return all of the columns\n",
    "strSql = \"SELECT * FROM Report \\\n",
    "          WHERE SimulationID IN (\" + simIdStr + \") \\\n",
    "          ORDER BY SimulationID\"\n",
    "strSql\n"
   ]
  },
  {
   "cell_type": "code",
   "execution_count": null,
   "metadata": {
    "collapsed": true
   },
   "outputs": [],
   "source": [
    "#c = con.cursor()\n",
    "#c.execute(strSql, simIds)\n",
    "#varietyRows = c.fetchall()"
   ]
  },
  {
   "cell_type": "code",
   "execution_count": null,
   "metadata": {
    "collapsed": true
   },
   "outputs": [],
   "source": [
    "#varietyRows = pd.DataFrame(varietyRows)\n",
    "#varietyRows\n",
    "#print(varietyRows.shape)"
   ]
  },
  {
   "cell_type": "code",
   "execution_count": null,
   "metadata": {
    "collapsed": true
   },
   "outputs": [],
   "source": [
    "dfReport = pd.read_sql_query(strSql, con, \\\n",
    "                       index_col=\"SimulationID\"\n",
    "                      )"
   ]
  },
  {
   "cell_type": "code",
   "execution_count": null,
   "metadata": {
    "collapsed": true
   },
   "outputs": [],
   "source": [
    "#This should return all of the columns\n",
    "#strSql = \"SELECT SimulationID, [Clock.Today], [Wheat.Leaf.LAI], [Wheat.AboveGround.Wt], \\\n",
    "#          [Wheat.Grain.Wt], [Wheat.Phenology.Zadok.Stage], [Wheat.WaterSupplyDemandRatio], \\\n",
    "#          [Wheat.Root.NUptake], [Wheat.Leaf.Fn] \\\n",
    "#          FROM Report \\\n",
    "#          ORDER BY SimulationID, [Clock.Today]\"\n",
    "#dfReport = pd.read_sql_query(strSql, con, \\\n",
    "#                       index_col=\"SimulationID\"\n",
    "#                      )\n"
   ]
  },
  {
   "cell_type": "code",
   "execution_count": null,
   "metadata": {
    "collapsed": true
   },
   "outputs": [],
   "source": [
    "print(dfReport.shape)\n",
    "dfReport"
   ]
  },
  {
   "cell_type": "code",
   "execution_count": null,
   "metadata": {
    "collapsed": true
   },
   "outputs": [],
   "source": [
    "#### Need to re-format the Clock.Today column so that it only includes the date\n",
    "dfReport['date'] = pd.to_datetime(dfReport['Clock.Today']).apply(lambda x:x.strftime('%d/%m/%Y'))\n",
    "dfReport['SimID'] = dfReport.index\n",
    "dfReport"
   ]
  },
  {
   "cell_type": "code",
   "execution_count": null,
   "metadata": {
    "collapsed": true
   },
   "outputs": [],
   "source": [
    "#strSql = \"SELECT DISTINCT SimulationID, [Clock.Today], [Wheat.Leaf.LAI], [Wheat.AboveGround.Wt], \\\n",
    "#          [Wheat.Grain.Wt], [Wheat.Phenology.Zadok.Stage], [Wheat.WaterSupplyDemandRatio], \\\n",
    "#          [Wheat.Root.NUptake], [Wheat.Leaf.Fn] \\\n",
    "#          FROM Report \\\n",
    "#          WHERE SimulationID = 1;\"\n",
    "#dfReport2 = pd.read_sql_query(strSql, con, \\\n",
    "#                       parse_dates = {\"Clock.Today\": '%Y-%m-%D %T'}, \\\n",
    "#                       index_col=\"Clock.Today\"\n",
    "#                      )"
   ]
  },
  {
   "cell_type": "code",
   "execution_count": null,
   "metadata": {
    "collapsed": true
   },
   "outputs": [],
   "source": [
    "#print(dfReport2.shape)"
   ]
  },
  {
   "cell_type": "code",
   "execution_count": null,
   "metadata": {
    "collapsed": true
   },
   "outputs": [],
   "source": [
    "#print(dfCombined.shape)\n",
    "#print(dfReport.shape)"
   ]
  },
  {
   "cell_type": "markdown",
   "metadata": {},
   "source": [
    "### Now output the results to new \".feather\" file"
   ]
  },
  {
   "cell_type": "code",
   "execution_count": null,
   "metadata": {
    "collapsed": true
   },
   "outputs": [],
   "source": [
    "filename = os.path.splitext(os.path.basename(dbfile_df.filename[0]))[0]\n",
    "filename = filename.replace(\".\", \"\")\n",
    "#dilename = os.path.splitext(filename)[0]\n",
    "#filename = apsim_outfiledir + \"/\" +  filename\n",
    "outpath = apsim_outfiledir + \"/\" +  filename + \".feather\"\n",
    "print(outpath)"
   ]
  },
  {
   "cell_type": "code",
   "execution_count": null,
   "metadata": {
    "collapsed": true
   },
   "outputs": [],
   "source": [
    "feather.write_dataframe(dfCombined, outpath)"
   ]
  },
  {
   "cell_type": "code",
   "execution_count": null,
   "metadata": {
    "collapsed": true
   },
   "outputs": [],
   "source": [
    "outpathSim = apsim_outfiledir + \"/\" +  filename  + \"_simulations.feather\"\n",
    "print(outpathSim)\n",
    "outpathReport = apsim_outfiledir + \"/\" +  filename  + \"_report.feather\"\n",
    "print(outpathReport)"
   ]
  },
  {
   "cell_type": "code",
   "execution_count": null,
   "metadata": {
    "collapsed": true
   },
   "outputs": [],
   "source": [
    "dfSim['SimID'] = dfSim.index\n",
    "dfSim\n",
    "#feather.write_dataframe(dfSim, outpath, index=True)\n"
   ]
  },
  {
   "cell_type": "code",
   "execution_count": null,
   "metadata": {
    "collapsed": true
   },
   "outputs": [],
   "source": [
    "cols = dfSim.columns.tolist() \n",
    "print(cols)\n",
    "cols = cols[-1:] + cols[1:5] + cols[0:1]\n",
    "print(cols)\n",
    "dfSim = dfSim[cols]\n",
    "dfSim"
   ]
  },
  {
   "cell_type": "code",
   "execution_count": null,
   "metadata": {
    "collapsed": true
   },
   "outputs": [],
   "source": [
    "feather.write_dataframe(dfSim, outpathSim)\n",
    "df = feather.read_dataframe(outpathSim)\n",
    "print(df.shape)\n",
    "df"
   ]
  },
  {
   "cell_type": "code",
   "execution_count": null,
   "metadata": {
    "collapsed": true
   },
   "outputs": [],
   "source": [
    "feather.write_dataframe(dfReport, outpathReport)"
   ]
  },
  {
   "cell_type": "code",
   "execution_count": null,
   "metadata": {
    "collapsed": true
   },
   "outputs": [],
   "source": [
    "df = feather.read_dataframe(outpathReport)\n",
    "print(df.shape)\n",
    "df"
   ]
  }
 ],
 "metadata": {
  "kernelspec": {
   "display_name": "Python 3",
   "language": "python",
   "name": "python3"
  },
  "language_info": {
   "codemirror_mode": {
    "name": "ipython",
    "version": 3
   },
   "file_extension": ".py",
   "mimetype": "text/x-python",
   "name": "python",
   "nbconvert_exporter": "python",
   "pygments_lexer": "ipython3",
   "version": "3.6.1"
  }
 },
 "nbformat": 4,
 "nbformat_minor": 2
}
